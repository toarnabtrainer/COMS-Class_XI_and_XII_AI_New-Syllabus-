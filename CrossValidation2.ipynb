{
 "cells": [
  {
   "cell_type": "markdown",
   "metadata": {},
   "source": [
    "## Cross Validation"
   ]
  },
  {
   "cell_type": "markdown",
   "metadata": {},
   "source": [
    "- **Cross Validation helps us know the effectiveness of a model. It has the following steps -**<br>\n",
    "<ul>\n",
    "    <li>Reserve a sample data set from the full data set</li>\n",
    "    <li>Train the model using the remaining part of the data set</li>\n",
    "    <li>Use the reserved sample data set test to perform validation.</li>\n",
    "    <li>If the model delivers a positive result on validation data, it is an effective model</li>\n",
    "</ul>"
   ]
  },
  {
   "cell_type": "markdown",
   "metadata": {},
   "source": [
    "- **Common methods for Cross Validation:**<br>\n",
    "<ul>\n",
    "    <li> Validation Set Approach -<br> reserve 50% of dataset for validation and rest 50% for model training. A disadvantage is that we train the model on only 50% of the data set, so we may leave some interesting information about data i.e. higher bias.</li>\n",
    "    <li> Leave one out cross validation (LOOCV) -<br> reserve only one data-point of the available data set and use the rest for training. Disadvantage is higher variation in the test results as it depends on which data point is chosen.</li>\n",
    "    <li> k-fold cross validation -<br> Randomly split the entire dataset into k folds. For each fold, train the model on the remaining k – 1 folds  and test using the kth fold. The average of the k recorded errors is the cross-validation error.</li>\n",
    "</ul>"
   ]
  },
  {
   "cell_type": "markdown",
   "metadata": {},
   "source": [
    "<img src='./CrossValidation1.png' width = 400  height = 400 >"
   ]
  },
  {
   "cell_type": "markdown",
   "metadata": {},
   "source": [
    "- The data is split into training data and test data. The training set contains a known output and the model learns on this data in order to be generalized to other data later on. The test dataset is used to test the model’s prediction this subset."
   ]
  },
  {
   "cell_type": "markdown",
   "metadata": {},
   "source": [
    "<img src='./CrossValidation2.png' width = 400  height = 400 >"
   ]
  },
  {
   "cell_type": "code",
   "execution_count": 1,
   "metadata": {},
   "outputs": [],
   "source": [
    "# importing libraries\n",
    "\n",
    "from sklearn.model_selection import cross_val_score\n",
    "from sklearn.datasets import load_iris\n",
    "from sklearn.linear_model import LogisticRegression"
   ]
  },
  {
   "cell_type": "code",
   "execution_count": 6,
   "metadata": {},
   "outputs": [
    {
     "name": "stdout",
     "output_type": "stream",
     "text": [
      "Cross-validation scores: [0.96078431 0.92156863 0.95833333]\n"
     ]
    }
   ],
   "source": [
    "# loading dataset\n",
    "\n",
    "iris = load_iris()\n",
    "\n",
    "logreg = LogisticRegression()\n",
    "\n",
    "# by default cv = 3\n",
    "scores = cross_val_score(logreg, iris.data, iris.target)\n",
    "print(\"Cross-validation scores: {}\".format(scores))"
   ]
  },
  {
   "cell_type": "code",
   "execution_count": 3,
   "metadata": {},
   "outputs": [
    {
     "name": "stdout",
     "output_type": "stream",
     "text": [
      "Cross-validation scores: [1.         0.96666667 0.93333333 0.9        1.        ]\n"
     ]
    }
   ],
   "source": [
    "scores = cross_val_score(logreg, iris.data, iris.target, cv=5)\n",
    "print(\"Cross-validation scores: {}\".format(scores))"
   ]
  },
  {
   "cell_type": "code",
   "execution_count": 4,
   "metadata": {},
   "outputs": [
    {
     "name": "stdout",
     "output_type": "stream",
     "text": [
      "Average cross-validation score: 0.96\n"
     ]
    }
   ],
   "source": [
    "# calculating score mean\n",
    "print(\"Average cross-validation score: {:.2f}\".format(scores.mean()))"
   ]
  },
  {
   "cell_type": "code",
   "execution_count": null,
   "metadata": {},
   "outputs": [],
   "source": []
  }
 ],
 "metadata": {
  "kernelspec": {
   "display_name": "Python 3 (ipykernel)",
   "language": "python",
   "name": "python3"
  },
  "language_info": {
   "codemirror_mode": {
    "name": "ipython",
    "version": 3
   },
   "file_extension": ".py",
   "mimetype": "text/x-python",
   "name": "python",
   "nbconvert_exporter": "python",
   "pygments_lexer": "ipython3",
   "version": "3.11.7"
  }
 },
 "nbformat": 4,
 "nbformat_minor": 4
}
