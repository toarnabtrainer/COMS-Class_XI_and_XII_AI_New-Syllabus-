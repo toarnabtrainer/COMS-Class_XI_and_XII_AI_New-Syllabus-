{
 "cells": [
  {
   "cell_type": "markdown",
   "metadata": {},
   "source": [
    "### Confusion Matrix"
   ]
  },
  {
   "cell_type": "markdown",
   "metadata": {},
   "source": [
    "**Shows the number of correct and incorrect predictions made by the classification model compared to the actual outcomes (target values) in the data.** <br>\n",
    "<br>\n",
    "_A Confusion matrix is an N x N matrix used for evaluating the performance of a classification model, where N is the number of target classes. The matrix compares the actual target values with those predicted by the machine learning model. This gives us a holistic view of how well our classification model is performing and what kinds of errors it is making._\n",
    "<br>\n",
    "**Let’s decipher the matrix:** <br>\n",
    "- The target variable has two values: Positive or Negative\n",
    "- The columns represent the actual values of the target variable\n",
    "- The rows represent the predicted values of the target variable\n",
    "<img src='./ConfusionMatrix.png' width = 400  height = 400 >\n",
    "- N x N matrix where N is the number of target values (classes). "
   ]
  },
  {
   "cell_type": "markdown",
   "metadata": {},
   "source": [
    "- **True Positive (TP)** <br>\n",
    "    * The predicted value matches the actual value\n",
    "    * The actual value was positive and the model predicted a positive value\n",
    "- **True Negative (TN)** <br>\n",
    "    * The predicted value matches the actual value\n",
    "    * The actual value was negative and the model predicted a negative value\n",
    "- **False Positive (FP) – Type 1 error** <br>\n",
    "    * The predicted value was falsely predicted\n",
    "    * The actual value was negative but the model predicted a positive value\n",
    "    * Also known as the Type 1 error\n",
    "- **False Negative (FN) – Type 2 error** <br>\n",
    "    * The predicted value was falsely predicted\n",
    "    * The actual value was positive but the model predicted a negative value\n",
    "    * Also known as the Type 2 error"
   ]
  },
  {
   "cell_type": "markdown",
   "metadata": {},
   "source": [
    "- Confusion matrix metrics: \n",
    "    * **Accuracy :** the proportion of the total number of predictions that were correct. <br>Accuracy = (TP + TN) / (TP + FP + TN + FN)\n",
    "    * **Positive Predictive Value or Precision :** the proportion of positive cases that were correctly identified. <br> Precision = TP / (TP + FP)\n",
    "    * **Negative Predictive Value :** the proportion of negative cases that were correctly identified. <br> NPV = TN / (TN + FN)\n",
    "    * **Sensitivity or Recall :** the proportion of actual positive cases which are correctly identified. <br> Recall = TP / (TP + FN)\n",
    "    * **Specificity :** the proportion of actual negative cases which are correctly identified. <br> Specificity = TN / (TN + FP)\n",
    "    * **F1-score :** is a harmonic mean of Precision and Recall <br> F1-score = 2 / ((1 / Recall) + (1 / Precision))"
   ]
  },
  {
   "cell_type": "markdown",
   "metadata": {},
   "source": [
    "### Confusion Matrix using sklearn"
   ]
  },
  {
   "cell_type": "code",
   "execution_count": 6,
   "metadata": {},
   "outputs": [],
   "source": [
    "# importing modules and libraries\n",
    "from sklearn.metrics import confusion_matrix\n",
    "from sklearn.metrics import classification_report\n",
    "import pandas as pd"
   ]
  },
  {
   "cell_type": "code",
   "execution_count": 7,
   "metadata": {},
   "outputs": [],
   "source": [
    "# actual values\n",
    "actual = [1,0,0,0,1,0,1,0,1,0]\n",
    "# predicted values\n",
    "predicted = [1,0,0,0,1,0,0,1,0,0]"
   ]
  },
  {
   "cell_type": "code",
   "execution_count": 11,
   "metadata": {},
   "outputs": [
    {
     "name": "stdout",
     "output_type": "stream",
     "text": [
      "Confusion matrix : \n",
      " [[5 1]\n",
      " [2 2]]\n"
     ]
    },
    {
     "data": {
      "text/html": [
       "<div>\n",
       "<style scoped>\n",
       "    .dataframe tbody tr th:only-of-type {\n",
       "        vertical-align: middle;\n",
       "    }\n",
       "\n",
       "    .dataframe tbody tr th {\n",
       "        vertical-align: top;\n",
       "    }\n",
       "\n",
       "    .dataframe thead th {\n",
       "        text-align: right;\n",
       "    }\n",
       "</style>\n",
       "<table border=\"1\" class=\"dataframe\">\n",
       "  <thead>\n",
       "    <tr style=\"text-align: right;\">\n",
       "      <th></th>\n",
       "      <th>Predicted Class 0</th>\n",
       "      <th>Predicted Class 1</th>\n",
       "    </tr>\n",
       "  </thead>\n",
       "  <tbody>\n",
       "    <tr>\n",
       "      <th>Actual Class 0</th>\n",
       "      <td>5</td>\n",
       "      <td>1</td>\n",
       "    </tr>\n",
       "    <tr>\n",
       "      <th>Actual Class 1</th>\n",
       "      <td>2</td>\n",
       "      <td>2</td>\n",
       "    </tr>\n",
       "  </tbody>\n",
       "</table>\n",
       "</div>"
      ],
      "text/plain": [
       "                Predicted Class 0  Predicted Class 1\n",
       "Actual Class 0                  5                  1\n",
       "Actual Class 1                  2                  2"
      ]
     },
     "execution_count": 11,
     "metadata": {},
     "output_type": "execute_result"
    }
   ],
   "source": [
    "# confusion matrix\n",
    "matrix = confusion_matrix(actual, predicted, labels = [0,1])\n",
    "print('Confusion matrix : \\n',matrix)\n",
    "pd.DataFrame(confusion_matrix(actual, predicted),\n",
    "             columns = [\"Predicted Class \" + str(class_name) for class_name in [0,1]],\n",
    "             index = [\"Actual Class \" + str(class_name) for class_name in [0,1]])"
   ]
  },
  {
   "cell_type": "code",
   "execution_count": 16,
   "metadata": {},
   "outputs": [
    {
     "name": "stdout",
     "output_type": "stream",
     "text": [
      "Outcome values TP = 2, FN = 2, FP = 1 and TN = 5 \n",
      "\n",
      "Classification report : \n",
      "              precision    recall  f1-score   support\n",
      "\n",
      "          0       0.71      0.83      0.77         6\n",
      "          1       0.67      0.50      0.57         4\n",
      "\n",
      "avg / total       0.70      0.70      0.69        10\n",
      "\n"
     ]
    }
   ],
   "source": [
    "# outcome values order in sklearn\n",
    "tn, fp, fn, tp = confusion_matrix(actual,predicted,labels=[0,1]).reshape(-1)\n",
    "print('Outcome values TP = {}, FN = {}, FP = {} and TN = {} \\n'.format(tp, fn, fp, tn))\n",
    "\n",
    "# classification report for precision, recall f1-score and accuracy\n",
    "matrix = classification_report(actual, predicted, labels = [0,1])\n",
    "print('Classification report : \\n',matrix)"
   ]
  },
  {
   "cell_type": "raw",
   "metadata": {},
   "source": [
    "Precision = TP/(TP + FP)\n",
    "Recall = TP/(TP + FN)\n",
    "F1-score = 2 x (precision x recall)/(precision + recall)\n",
    "                      predicted     \n",
    "                class-0      class-1\n",
    "actual class-0   TN (5)       FP (1)  \n",
    "actual class-1   FN (2)       TP (2)\n",
    "     precision         recall             f1-score                     support\n",
    "  0  5/(5+2)=0.71      5/(5+1)=0.83       2*0.71*0.83/(0.71+0.83)=0.77 5+1=6\n",
    "  1  2/(2+1)=0.67      2/(2+2)=0.50       2*0.67*0.50/(0.67+0.50)=0.57 2+2=4\n",
    "T/A   (5+2)/(5+1        (5+2)/(5+1        2*0.70*0.70/(0.70+0.70)=0.69 6+4=10\n",
    "       +2+2)=0.70       +2+2)=0.70"
   ]
  },
  {
   "cell_type": "code",
   "execution_count": null,
   "metadata": {},
   "outputs": [],
   "source": []
  }
 ],
 "metadata": {
  "kernelspec": {
   "display_name": "Python 3 (ipykernel)",
   "language": "python",
   "name": "python3"
  },
  "language_info": {
   "codemirror_mode": {
    "name": "ipython",
    "version": 3
   },
   "file_extension": ".py",
   "mimetype": "text/x-python",
   "name": "python",
   "nbconvert_exporter": "python",
   "pygments_lexer": "ipython3",
   "version": "3.11.7"
  }
 },
 "nbformat": 4,
 "nbformat_minor": 4
}
